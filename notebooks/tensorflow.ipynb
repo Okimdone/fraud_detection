{
 "cells": [
  {
   "cell_type": "markdown",
   "id": "fbe4719b-6bbf-42d2-a557-fccf65a1fcce",
   "metadata": {},
   "source": [
    "### Loading initial libraries"
   ]
  },
  {
   "cell_type": "code",
   "execution_count": 19,
   "id": "d4b39d9d-2e38-4ba0-afba-a564581cedb8",
   "metadata": {},
   "outputs": [],
   "source": [
    "import math\n",
    "import numpy as np\n",
    "import pandas as pd\n",
    "import tensorflow as tf\n",
    "import tensorflow.keras as keras\n",
    "from tensorflow.keras import layers\n",
    "from tensorflow.keras import activations\n",
    "from tensorflow.keras import initializers\n",
    "# import tensorflow.compat.v1 as tf\n",
    "# tf.disable_v2_behavior()\n",
    "from sklearn.utils import shuffle\n",
    "from sklearn.metrics import confusion_matrix\n",
    "from sklearn.metrics import recall_score\n",
    "from sklearn.model_selection import train_test_split\n",
    "import matplotlib.gridspec as gridspec\n",
    "import matplotlib.pyplot as plt\n",
    "import seaborn as sns\n",
    "\n",
    "plt.rcParams['figure.figsize'] = 14, 8\n",
    "\n",
    "data_path='../data/KAGGLE_DS/kaggle_creditcard.csv'"
   ]
  },
  {
   "cell_type": "markdown",
   "id": "6570fdc1-b37c-419d-b9df-18a112c6f429",
   "metadata": {},
   "source": [
    "### Reading, transforming and separating the dataset into training and testing sets"
   ]
  },
  {
   "cell_type": "code",
   "execution_count": 20,
   "id": "8e2c39c6-2c6e-49d9-a5a8-a43f004bce09",
   "metadata": {},
   "outputs": [],
   "source": [
    "    data=pd.read_csv(data_path)\n",
    "    data=data.rename(columns={'Class': 'Fraud'})\n",
    "\n",
    "    #Create a new feature for normal (non-fraudulent) transactions.\n",
    "    data.loc[data.Fraud == 0, 'Normal'] = 1\n",
    "    data.loc[data.Fraud == 1, 'Normal'] = 0\n",
    "\n",
    "    # Separating the fraud and normal datasets\n",
    "    fraud  = data[data.Fraud == 1]\n",
    "    normal = data[data.Fraud == 0]\n",
    "\n",
    "    # Setting up the training dataset\n",
    "    train_frac = 0.8\n",
    "    X_train = fraud.sample(frac=train_frac)\n",
    "    count_Frauds = len(X_train)\n",
    "    X_train = X_train.append(normal.sample(frac=train_frac))\n",
    "\n",
    "    # Setting up the testing dataset\n",
    "    X_test = data.loc[~data.index.isin(X_train.index)]\n",
    "\n",
    "    # Shuffling the data so that the training happens in a random order\n",
    "    random_state=22\n",
    "    X_train = shuffle(X_train, random_state=random_state)\n",
    "    X_test = shuffle(X_test, random_state=random_state)\n",
    "\n",
    "    # Adding out target values to y_train and y_test\n",
    "    y_train = pd.concat([X_train.pop('Normal'), X_train.pop('Fraud')], axis=1)\n",
    "    y_test = pd.concat([X_test.pop('Normal'), X_test.pop('Fraud')], axis=1)"
   ]
  },
  {
   "cell_type": "code",
   "execution_count": 21,
   "id": "8c0bf9e8-a7fe-48d5-bebf-cf9e15ea6819",
   "metadata": {},
   "outputs": [
    {
     "data": {
      "text/html": [
       "<div>\n",
       "<style scoped>\n",
       "    .dataframe tbody tr th:only-of-type {\n",
       "        vertical-align: middle;\n",
       "    }\n",
       "\n",
       "    .dataframe tbody tr th {\n",
       "        vertical-align: top;\n",
       "    }\n",
       "\n",
       "    .dataframe thead th {\n",
       "        text-align: right;\n",
       "    }\n",
       "</style>\n",
       "<table border=\"1\" class=\"dataframe\">\n",
       "  <thead>\n",
       "    <tr style=\"text-align: right;\">\n",
       "      <th></th>\n",
       "      <th>Time</th>\n",
       "      <th>V1</th>\n",
       "      <th>V2</th>\n",
       "      <th>V3</th>\n",
       "      <th>V4</th>\n",
       "      <th>V5</th>\n",
       "      <th>V6</th>\n",
       "      <th>V7</th>\n",
       "      <th>V8</th>\n",
       "      <th>V9</th>\n",
       "      <th>...</th>\n",
       "      <th>V20</th>\n",
       "      <th>V21</th>\n",
       "      <th>V22</th>\n",
       "      <th>V23</th>\n",
       "      <th>V24</th>\n",
       "      <th>V25</th>\n",
       "      <th>V26</th>\n",
       "      <th>V27</th>\n",
       "      <th>V28</th>\n",
       "      <th>Amount</th>\n",
       "    </tr>\n",
       "  </thead>\n",
       "  <tbody>\n",
       "    <tr>\n",
       "      <th>count</th>\n",
       "      <td>227846.000000</td>\n",
       "      <td>227846.000000</td>\n",
       "      <td>227846.000000</td>\n",
       "      <td>227846.000000</td>\n",
       "      <td>227846.000000</td>\n",
       "      <td>227846.000000</td>\n",
       "      <td>227846.000000</td>\n",
       "      <td>227846.000000</td>\n",
       "      <td>227846.000000</td>\n",
       "      <td>227846.000000</td>\n",
       "      <td>...</td>\n",
       "      <td>227846.000000</td>\n",
       "      <td>227846.000000</td>\n",
       "      <td>227846.000000</td>\n",
       "      <td>227846.000000</td>\n",
       "      <td>227846.000000</td>\n",
       "      <td>227846.000000</td>\n",
       "      <td>227846.000000</td>\n",
       "      <td>227846.000000</td>\n",
       "      <td>227846.000000</td>\n",
       "      <td>227846.000000</td>\n",
       "    </tr>\n",
       "    <tr>\n",
       "      <th>mean</th>\n",
       "      <td>94825.432116</td>\n",
       "      <td>-0.000627</td>\n",
       "      <td>-0.000259</td>\n",
       "      <td>0.000950</td>\n",
       "      <td>-0.003174</td>\n",
       "      <td>0.000023</td>\n",
       "      <td>-0.000963</td>\n",
       "      <td>-0.000019</td>\n",
       "      <td>-0.000285</td>\n",
       "      <td>0.000158</td>\n",
       "      <td>...</td>\n",
       "      <td>0.000766</td>\n",
       "      <td>-0.000072</td>\n",
       "      <td>0.000665</td>\n",
       "      <td>-0.000787</td>\n",
       "      <td>-0.000502</td>\n",
       "      <td>-0.000062</td>\n",
       "      <td>-0.000428</td>\n",
       "      <td>0.000399</td>\n",
       "      <td>-0.000479</td>\n",
       "      <td>88.221875</td>\n",
       "    </tr>\n",
       "    <tr>\n",
       "      <th>std</th>\n",
       "      <td>47461.619161</td>\n",
       "      <td>1.962226</td>\n",
       "      <td>1.660638</td>\n",
       "      <td>1.516796</td>\n",
       "      <td>1.415601</td>\n",
       "      <td>1.386726</td>\n",
       "      <td>1.334144</td>\n",
       "      <td>1.245799</td>\n",
       "      <td>1.196650</td>\n",
       "      <td>1.099858</td>\n",
       "      <td>...</td>\n",
       "      <td>0.776570</td>\n",
       "      <td>0.731482</td>\n",
       "      <td>0.724995</td>\n",
       "      <td>0.616031</td>\n",
       "      <td>0.606480</td>\n",
       "      <td>0.521024</td>\n",
       "      <td>0.481904</td>\n",
       "      <td>0.404577</td>\n",
       "      <td>0.329122</td>\n",
       "      <td>252.581718</td>\n",
       "    </tr>\n",
       "    <tr>\n",
       "      <th>min</th>\n",
       "      <td>0.000000</td>\n",
       "      <td>-56.407510</td>\n",
       "      <td>-72.715728</td>\n",
       "      <td>-48.325589</td>\n",
       "      <td>-5.683171</td>\n",
       "      <td>-113.743307</td>\n",
       "      <td>-26.160506</td>\n",
       "      <td>-43.557242</td>\n",
       "      <td>-73.216718</td>\n",
       "      <td>-13.320155</td>\n",
       "      <td>...</td>\n",
       "      <td>-54.497720</td>\n",
       "      <td>-34.830382</td>\n",
       "      <td>-10.933144</td>\n",
       "      <td>-44.807735</td>\n",
       "      <td>-2.836627</td>\n",
       "      <td>-10.295397</td>\n",
       "      <td>-2.604551</td>\n",
       "      <td>-22.565679</td>\n",
       "      <td>-15.430084</td>\n",
       "      <td>0.000000</td>\n",
       "    </tr>\n",
       "    <tr>\n",
       "      <th>25%</th>\n",
       "      <td>54247.000000</td>\n",
       "      <td>-0.921195</td>\n",
       "      <td>-0.600653</td>\n",
       "      <td>-0.887791</td>\n",
       "      <td>-0.851508</td>\n",
       "      <td>-0.692616</td>\n",
       "      <td>-0.769129</td>\n",
       "      <td>-0.554277</td>\n",
       "      <td>-0.208426</td>\n",
       "      <td>-0.642554</td>\n",
       "      <td>...</td>\n",
       "      <td>-0.211977</td>\n",
       "      <td>-0.228045</td>\n",
       "      <td>-0.540604</td>\n",
       "      <td>-0.162430</td>\n",
       "      <td>-0.355405</td>\n",
       "      <td>-0.316851</td>\n",
       "      <td>-0.327026</td>\n",
       "      <td>-0.070780</td>\n",
       "      <td>-0.053108</td>\n",
       "      <td>5.550000</td>\n",
       "    </tr>\n",
       "    <tr>\n",
       "      <th>50%</th>\n",
       "      <td>84711.000000</td>\n",
       "      <td>0.016925</td>\n",
       "      <td>0.066304</td>\n",
       "      <td>0.180618</td>\n",
       "      <td>-0.022813</td>\n",
       "      <td>-0.054212</td>\n",
       "      <td>-0.274978</td>\n",
       "      <td>0.040497</td>\n",
       "      <td>0.022426</td>\n",
       "      <td>-0.052565</td>\n",
       "      <td>...</td>\n",
       "      <td>-0.062613</td>\n",
       "      <td>-0.029164</td>\n",
       "      <td>0.006529</td>\n",
       "      <td>-0.011292</td>\n",
       "      <td>0.040951</td>\n",
       "      <td>0.016943</td>\n",
       "      <td>-0.053430</td>\n",
       "      <td>0.001296</td>\n",
       "      <td>0.011289</td>\n",
       "      <td>21.990000</td>\n",
       "    </tr>\n",
       "    <tr>\n",
       "      <th>75%</th>\n",
       "      <td>139309.000000</td>\n",
       "      <td>1.315340</td>\n",
       "      <td>0.804240</td>\n",
       "      <td>1.028314</td>\n",
       "      <td>0.740673</td>\n",
       "      <td>0.612640</td>\n",
       "      <td>0.397865</td>\n",
       "      <td>0.569545</td>\n",
       "      <td>0.326785</td>\n",
       "      <td>0.596306</td>\n",
       "      <td>...</td>\n",
       "      <td>0.133735</td>\n",
       "      <td>0.186915</td>\n",
       "      <td>0.528737</td>\n",
       "      <td>0.147157</td>\n",
       "      <td>0.439262</td>\n",
       "      <td>0.351058</td>\n",
       "      <td>0.240531</td>\n",
       "      <td>0.091360</td>\n",
       "      <td>0.078293</td>\n",
       "      <td>77.000000</td>\n",
       "    </tr>\n",
       "    <tr>\n",
       "      <th>max</th>\n",
       "      <td>172788.000000</td>\n",
       "      <td>2.454930</td>\n",
       "      <td>22.057729</td>\n",
       "      <td>9.382558</td>\n",
       "      <td>16.875344</td>\n",
       "      <td>34.801666</td>\n",
       "      <td>73.301626</td>\n",
       "      <td>120.589494</td>\n",
       "      <td>20.007208</td>\n",
       "      <td>15.594995</td>\n",
       "      <td>...</td>\n",
       "      <td>39.420904</td>\n",
       "      <td>27.202839</td>\n",
       "      <td>10.503090</td>\n",
       "      <td>22.528412</td>\n",
       "      <td>4.584549</td>\n",
       "      <td>5.826159</td>\n",
       "      <td>3.463246</td>\n",
       "      <td>31.612198</td>\n",
       "      <td>33.847808</td>\n",
       "      <td>25691.160000</td>\n",
       "    </tr>\n",
       "  </tbody>\n",
       "</table>\n",
       "<p>8 rows × 30 columns</p>\n",
       "</div>"
      ],
      "text/plain": [
       "                Time             V1             V2             V3  \\\n",
       "count  227846.000000  227846.000000  227846.000000  227846.000000   \n",
       "mean    94825.432116      -0.000627      -0.000259       0.000950   \n",
       "std     47461.619161       1.962226       1.660638       1.516796   \n",
       "min         0.000000     -56.407510     -72.715728     -48.325589   \n",
       "25%     54247.000000      -0.921195      -0.600653      -0.887791   \n",
       "50%     84711.000000       0.016925       0.066304       0.180618   \n",
       "75%    139309.000000       1.315340       0.804240       1.028314   \n",
       "max    172788.000000       2.454930      22.057729       9.382558   \n",
       "\n",
       "                  V4             V5             V6             V7  \\\n",
       "count  227846.000000  227846.000000  227846.000000  227846.000000   \n",
       "mean       -0.003174       0.000023      -0.000963      -0.000019   \n",
       "std         1.415601       1.386726       1.334144       1.245799   \n",
       "min        -5.683171    -113.743307     -26.160506     -43.557242   \n",
       "25%        -0.851508      -0.692616      -0.769129      -0.554277   \n",
       "50%        -0.022813      -0.054212      -0.274978       0.040497   \n",
       "75%         0.740673       0.612640       0.397865       0.569545   \n",
       "max        16.875344      34.801666      73.301626     120.589494   \n",
       "\n",
       "                  V8             V9  ...            V20            V21  \\\n",
       "count  227846.000000  227846.000000  ...  227846.000000  227846.000000   \n",
       "mean       -0.000285       0.000158  ...       0.000766      -0.000072   \n",
       "std         1.196650       1.099858  ...       0.776570       0.731482   \n",
       "min       -73.216718     -13.320155  ...     -54.497720     -34.830382   \n",
       "25%        -0.208426      -0.642554  ...      -0.211977      -0.228045   \n",
       "50%         0.022426      -0.052565  ...      -0.062613      -0.029164   \n",
       "75%         0.326785       0.596306  ...       0.133735       0.186915   \n",
       "max        20.007208      15.594995  ...      39.420904      27.202839   \n",
       "\n",
       "                 V22            V23            V24            V25  \\\n",
       "count  227846.000000  227846.000000  227846.000000  227846.000000   \n",
       "mean        0.000665      -0.000787      -0.000502      -0.000062   \n",
       "std         0.724995       0.616031       0.606480       0.521024   \n",
       "min       -10.933144     -44.807735      -2.836627     -10.295397   \n",
       "25%        -0.540604      -0.162430      -0.355405      -0.316851   \n",
       "50%         0.006529      -0.011292       0.040951       0.016943   \n",
       "75%         0.528737       0.147157       0.439262       0.351058   \n",
       "max        10.503090      22.528412       4.584549       5.826159   \n",
       "\n",
       "                 V26            V27            V28         Amount  \n",
       "count  227846.000000  227846.000000  227846.000000  227846.000000  \n",
       "mean       -0.000428       0.000399      -0.000479      88.221875  \n",
       "std         0.481904       0.404577       0.329122     252.581718  \n",
       "min        -2.604551     -22.565679     -15.430084       0.000000  \n",
       "25%        -0.327026      -0.070780      -0.053108       5.550000  \n",
       "50%        -0.053430       0.001296       0.011289      21.990000  \n",
       "75%         0.240531       0.091360       0.078293      77.000000  \n",
       "max         3.463246      31.612198      33.847808   25691.160000  \n",
       "\n",
       "[8 rows x 30 columns]"
      ]
     },
     "execution_count": 21,
     "metadata": {},
     "output_type": "execute_result"
    }
   ],
   "source": [
    "X_train.describe()"
   ]
  },
  {
   "cell_type": "markdown",
   "id": "eda10dd4-0e52-4926-871f-ab0b8f60e486",
   "metadata": {},
   "source": [
    "### Normalizing the features that arent already close to 0 because DP benifites from it"
   ]
  },
  {
   "cell_type": "code",
   "execution_count": 22,
   "id": "6d9fb6ff-c5c8-443a-bff8-0d33db6740dd",
   "metadata": {},
   "outputs": [],
   "source": [
    "# The dataset needs to be balanced. \n",
    "# ratio = len(X_train)/count_Frauds \n",
    "\n",
    "#Transform each feature in features so that it has a mean of 0 and standard deviation of 1; \n",
    "#this helps with training the neural network.\n",
    "for feature in ['Time', 'Amount']:\n",
    "    mean, std = data[feature].mean(), data[feature].std()\n",
    "    X_train.loc[:, feature] = (X_train[feature] - mean) / std\n",
    "    X_test.loc[:, feature] = (X_test[feature] - mean) / std\n"
   ]
  },
  {
   "cell_type": "markdown",
   "id": "e1c29573-c4fc-4451-9993-ef67c5fc3ea2",
   "metadata": {},
   "source": [
    "### Storing the data as numpy matrices, and separating the test dataset into validation and testing sets"
   ]
  },
  {
   "cell_type": "code",
   "execution_count": 23,
   "id": "34be5bec-2d7e-40f8-b1ab-2584fb4061e9",
   "metadata": {},
   "outputs": [],
   "source": [
    "# Train the neural Network. Split the testing data into validation and testing sets\n",
    "split = int(len(y_test)/2)\n",
    "\n",
    "inputX = X_train.values\n",
    "inputY = y_train.values\n",
    "inputX_valid = X_test.values[:split]\n",
    "inputY_valid = y_test.values[:split]\n",
    "inputX_test = X_test.values[split:]\n",
    "inputY_test = y_test.values[split:]"
   ]
  },
  {
   "cell_type": "markdown",
   "id": "1b215563-66c6-4613-8994-72587f81730c",
   "metadata": {},
   "source": [
    "### Defining the layers of the model and the number of nodes in each layer "
   ]
  },
  {
   "cell_type": "code",
   "execution_count": 24,
   "id": "e49d8429-ad80-49fc-9af7-6f761021a5e6",
   "metadata": {},
   "outputs": [],
   "source": [
    "# Number of input nodes.\n",
    "input_nodes = X_train.shape[1]\n",
    "\n",
    "# Number of nodes in each hidden layer\n",
    "hidden_nodes1 = 20\n",
    "hidden_nodes2 = 20\n",
    "hidden_nodes3 = 20\n",
    "# hidden_nodes4 = 20\n",
    "\n",
    "# input\n",
    "x = keras.Input(shape=input_nodes)\n",
    "y1 = layers.Dense(\n",
    "    hidden_nodes1, \n",
    "    name='layer_1',\n",
    "    activation = activations.sigmoid, \n",
    "    kernel_initializer = initializers.RandomNormal(stddev=0.01), \n",
    "    bias_initializer = initializers.Zeros())\n",
    "y2 = layers.Dense(\n",
    "    hidden_nodes2,\n",
    "    name='layer_2',\n",
    "    activation = activations.sigmoid, \n",
    "    kernel_initializer = initializers.RandomNormal(stddev=0.01), \n",
    "    bias_initializer = initializers.Zeros())\n",
    "y3 = layers.Dense(\n",
    "    hidden_nodes3, \n",
    "    name='layer_3',\n",
    "   activation = activations.sigmoid, \n",
    "   kernel_initializer = initializers.RandomNormal(stddev=0.01), \n",
    "   bias_initializer = initializers.Zeros())\n",
    "y5 = layers.Dense(\n",
    "    2, \n",
    "    name=\"OUTPUT\",\n",
    "    activation = activations.softmax, \n",
    "    kernel_initializer = initializers.RandomNormal(stddev=0.01), \n",
    "    bias_initializer = initializers.Zeros())\n",
    "\n",
    "# output\n",
    "y = y5"
   ]
  },
  {
   "cell_type": "markdown",
   "id": "80eafd44-88ca-406d-b13c-0c5d22c9a494",
   "metadata": {},
   "source": [
    "### Creating the model and compiling it with the appropriate loss function and optimizer"
   ]
  },
  {
   "cell_type": "code",
   "execution_count": 25,
   "id": "3147f835-a459-4867-b647-1e12376df74e",
   "metadata": {},
   "outputs": [
    {
     "name": "stdout",
     "output_type": "stream",
     "text": [
      "Model: \"sequential_3\"\n",
      "_________________________________________________________________\n",
      "Layer (type)                 Output Shape              Param #   \n",
      "=================================================================\n",
      "layer_1 (Dense)              (None, 20)                620       \n",
      "_________________________________________________________________\n",
      "layer_2 (Dense)              (None, 20)                420       \n",
      "_________________________________________________________________\n",
      "layer_3 (Dense)              (None, 20)                420       \n",
      "_________________________________________________________________\n",
      "OUTPUT (Dense)               (None, 2)                 42        \n",
      "=================================================================\n",
      "Total params: 1,502\n",
      "Trainable params: 1,502\n",
      "Non-trainable params: 0\n",
      "_________________________________________________________________\n"
     ]
    }
   ],
   "source": [
    "model = keras.Sequential([x, y1, y2, y3, y])\n",
    "\n",
    "# Parameters\n",
    "training_epochs = 100\n",
    "n_samples = y_train.shape[0]\n",
    "batch_size = 1024\n",
    "learning_rate = 0.05\n",
    "\n",
    "model.compile(\n",
    "    loss = keras.losses.categorical_crossentropy,\n",
    "    optimizer = keras.optimizers.Adam(learning_rate=learning_rate),\n",
    "    metrics=[\"accuracy\", \"Recall\"] #keras.metrics.Recall() ]#,  tf.keras.metrics.FalseNegatives()]\n",
    ")\n",
    "model.summary()"
   ]
  },
  {
   "cell_type": "markdown",
   "id": "900fd0b2-01ed-424e-a5ba-c50c19ba1131",
   "metadata": {},
   "source": [
    "### Fiting the model to the dataset"
   ]
  },
  {
   "cell_type": "code",
   "execution_count": 26,
   "id": "87b1f205-3734-4ec4-8789-a11272b79544",
   "metadata": {},
   "outputs": [],
   "source": [
    "training_history = model.fit(\n",
    "    inputX, inputY, \n",
    "    batch_size=batch_size, \n",
    "    epochs=training_epochs, \n",
    "    verbose=0, \n",
    "    use_multiprocessing=False, \n",
    "    validation_data=(inputX_valid, inputY_valid)).history"
   ]
  },
  {
   "cell_type": "code",
   "execution_count": 27,
   "id": "9f1e1022-8f9d-4dc9-a76a-a58fe7a8fef7",
   "metadata": {},
   "outputs": [
    {
     "name": "stdout",
     "output_type": "stream",
     "text": [
      "dict_keys(['loss', 'accuracy', 'recall', 'val_loss', 'val_accuracy', 'val_recall'])\n"
     ]
    },
    {
     "data": {
      "image/png": "[encoded data removed]",
      "text/plain": [
       "<Figure size 864x576 with 3 Axes>"
      ]
     },
     "metadata": {
      "needs_background": "light"
     },
     "output_type": "display_data"
    }
   ],
   "source": [
    "display_step = 1 # 10 \n",
    "print(training_history.keys())\n",
    "\n",
    "f, (ax1, ax2, ax3) = plt.subplots(3, 1, sharex=True, figsize=(12,8))\n",
    "\n",
    "ax1.plot(training_history['accuracy'][::display_step], label='train') # blue\n",
    "ax1.plot(training_history['val_accuracy'][::display_step], label='valid') # green\n",
    "ax1.set_title('Accuracy')\n",
    "\n",
    "ax2.plot(training_history['loss'][::display_step], label='train') # blue\n",
    "ax2.plot(training_history['val_loss'][::display_step], label='valid') # green\n",
    "ax2.set_title('Cost')\n",
    "\n",
    "ax3.plot(training_history['recall'][::display_step], label='train') # blue\n",
    "ax3.plot(training_history['val_recall'][::display_step], label='valid') # green\n",
    "ax3.set_title('Recall')\n",
    "\n",
    "plt.xlabel('Epochs (x{})'.format(display_step))\n",
    "plt.legend() \n",
    "plt.show()"
   ]
  },
  {
   "cell_type": "code",
   "execution_count": 28,
   "id": "ed9b6f3e-d04a-44cd-ab64-58145e67999e",
   "metadata": {},
   "outputs": [
    {
     "data": {
      "text/plain": [
       "<matplotlib.legend.Legend at 0x7f75da745e20>"
      ]
     },
     "execution_count": 28,
     "metadata": {},
     "output_type": "execute_result"
    },
    {
     "data": {
      "image/png": "[encoded data removed]",
      "text/plain": [
       "<Figure size 1296x288 with 3 Axes>"
      ]
     },
     "metadata": {
      "needs_background": "light"
     },
     "output_type": "display_data"
    }
   ],
   "source": [
    "display_step = 1 # 10 \n",
    "\n",
    "f, (ax1, ax2, ax3) = plt.subplots(1, 3, figsize=(18,4)) \n",
    "\n",
    "sns.kdeplot(ax=ax1, x=training_history['accuracy'][::display_step], fill=True, label='train')\n",
    "sns.kdeplot(ax=ax1, x=training_history['val_accuracy'][::display_step], fill=True, label='valid')\n",
    "ax1.set_title('Accuracy')\n",
    "\n",
    "sns.kdeplot(ax=ax2, x=training_history['loss'][::display_step], fill=True, label='train')\n",
    "sns.kdeplot(ax=ax2, x=training_history['val_loss'][::display_step], fill=True, label='valid')\n",
    "ax2.set_title('Cost')\n",
    "\n",
    "sns.kdeplot(ax=ax3, x=training_history['recall'][::display_step], fill=True, label='train')\n",
    "sns.kdeplot(ax=ax3, x=training_history['val_recall'][::display_step], fill=True, label='valid')\n",
    "ax3.set_title('Recall')\n",
    "\n",
    "\n",
    "\n",
    "# plt.xlabel('Epochs (x{})'.format(display_step))\n",
    "plt.legend() "
   ]
  },
  {
   "cell_type": "markdown",
   "id": "ce668d08-87d7-4f5c-b7e3-421045651bdc",
   "metadata": {},
   "source": [
    "### Plotting the confusion matrix"
   ]
  },
  {
   "cell_type": "code",
   "execution_count": 30,
   "id": "fe48e2fc-c471-43f3-884e-7f9fe8d450e8",
   "metadata": {},
   "outputs": [
    {
     "name": "stdout",
     "output_type": "stream",
     "text": [
      "Test accuracy: 99.92978%\n",
      "Recall: 81.81818%\n"
     ]
    },
    {
     "data": {
      "text/plain": [
       "array([[28425,    12],\n",
       "       [    8,    36]])"
      ]
     },
     "execution_count": 30,
     "metadata": {},
     "output_type": "execute_result"
    },
    {
     "data": {
      "image/png": "[encoded data removed]",
      "text/plain": [
       "<Figure size 648x648 with 2 Axes>"
      ]
     },
     "metadata": {
      "needs_background": "light"
     },
     "output_type": "display_data"
    }
   ],
   "source": [
    "y_pred = model.predict(inputX_test)\n",
    "y_fraud_pred = np.argmax(y_pred, 1)\n",
    "y_fraud_true = np.argmax(inputY_test, 1)\n",
    "\n",
    "plt.figure(figsize=(9, 9))\n",
    "\n",
    "cm = confusion_matrix(y_true=y_fraud_true, y_pred=y_fraud_pred)\n",
    "\n",
    "group_names = ['True Neg','False Pos','False Neg','True Pos']\n",
    "group_counts = [\"{0:0.0f}\".format(value) for value in cm.flatten()]\n",
    "group_percentages = [\"{0:.2%}\".format(value) for value in cm.flatten()/np.sum(cm)]\n",
    "labels = [f\"{v1}\\n{v2}\\n{v3}\" for v1, v2, v3 in zip(group_names,group_counts,group_percentages)]\n",
    "labels = np.asarray(labels).reshape(2,2)\n",
    "print('Test accuracy: {:.5f}%'.format(\n",
    "    100 * float(cm[0][0]+cm[1][1]) / np.sum(cm)) )\n",
    "print('Recall: {:.5f}%'.format(\n",
    "    100 * float(cm[1][1]) / sum(cm[1])) )\n",
    "sns.heatmap(cm, annot=labels, fmt='', cmap='Blues')\n",
    "cm"
   ]
  },
  {
   "cell_type": "code",
   "execution_count": 31,
   "id": "925181fc-a13f-4ebb-ab96-d6b90c35ecd6",
   "metadata": {},
   "outputs": [
    {
     "name": "stderr",
     "output_type": "stream",
     "text": [
      "2021-11-24 02:38:18.126889: W tensorflow/python/util/util.cc:348] Sets are not currently considered sequences, but this may change in the future, so consider avoiding using them.\n"
     ]
    },
    {
     "name": "stdout",
     "output_type": "stream",
     "text": [
      "INFO:tensorflow:Assets written to: ./BEST_2/assets\n"
     ]
    }
   ],
   "source": [
    "model.save('./BEST_2')"
   ]
  },
  {
   "cell_type": "code",
   "execution_count": null,
   "id": "b583f38a-7e26-40a8-a2a1-a0f8219326c2",
   "metadata": {},
   "outputs": [],
   "source": [
    "import json\n",
    "url=\"http://localhost:8501/v1/models/fraud_detector:predict\"\n",
    "\n",
    "def make_prediction(instances):\n",
    "   data = json.dumps({\"signature_name\": \"serving_default\", \"instances\": instances.tolist()})\n",
    "   headers = {\"content-type\": \"application/json\"}\n",
    "   json_response = requests.post(url, data=data, headers=headers)\n",
    "   # return json_response\n",
    "   predictions = json.loads(json_response.text)#['predictions']\n",
    "   return predictions\n",
    "\n",
    "make_prediction(X_test.values)"
   ]
  }
 ],
 "metadata": {
  "kernelspec": {
   "display_name": "Python 3 (ipykernel)",
   "language": "python",
   "name": "python3"
  },
  "language_info": {
   "codemirror_mode": {
    "name": "ipython",
    "version": 3
   },
   "file_extension": ".py",
   "mimetype": "text/x-python",
   "name": "python",
   "nbconvert_exporter": "python",
   "pygments_lexer": "ipython3",
   "version": "3.9.7"
  }
 },
 "nbformat": 4,
 "nbformat_minor": 5
}
